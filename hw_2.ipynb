{
 "cells": [
  {
   "cell_type": "markdown",
   "metadata": {},
   "source": [
    "## Import lib"
   ]
  },
  {
   "cell_type": "code",
   "execution_count": 85,
   "metadata": {},
   "outputs": [],
   "source": [
    "import pandas as pd\n",
    "import numpy as np\n",
    "import matplotlib.pyplot as plt\n",
    "import re, os, string\n",
    "from sklearn.feature_extraction.text import CountVectorizer, TfidfVectorizer\n",
    "import seaborn as sns\n",
    "import torch\n",
    "from torch.utils.data import Dataset, DataLoader\n",
    "from torch.nn.utils.rnn import pad_sequence\n",
    "from torch import nn\n",
    "import torch.nn.functional as F\n",
    "import gensim.models.keyedvectors as word2vec\n",
    "from sklearn.decomposition import PCA\n",
    "from gensim.models import Word2Vec\n",
    "from sklearn.preprocessing import LabelBinarizer\n",
    "from collections import Counter\n",
    "import torch.optim as optim\n",
    "from tqdm import tqdm "
   ]
  },
  {
   "cell_type": "markdown",
   "metadata": {},
   "source": [
    "## Read data"
   ]
  },
  {
   "cell_type": "code",
   "execution_count": 3,
   "metadata": {},
   "outputs": [
    {
     "name": "stdout",
     "output_type": "stream",
     "text": [
      "[['danh_sách', 'tác_phẩm', 'doraemon'], ['doraemon', 'nguyên_tác', 'là', 'xê', 'ri', 'anime', 'và', 'manga', 'được', 'sáng_tác', 'bởi', 'fujiko_f'], ['bắt_đầu_từ', 'những', 'chương', 'truyện', 'nhỏ', 'đăng', 'trên', 'tạp_chí', 'tháng', 'corocoro', 'comic', 'sau', 'đó', 'shogakukan', 'tập_hợp', 'lại', 'phát_hành', 'theo', 'cuốn', 'từ', 'tập', '1', 'đến', 'tập', '45'], ['sau', 'đó', 'chuyển_thể', 'thành', 'anime', 'theo', 'ba', 'giai_đoạn', 'phim', 'hoạt_hình', '1973', '1979', '2005', 'và', '2005'], ['năm', '2014', 'viz_media', 'mua', 'bản_quyền', 'mỹ_hóa', 'các', 'yếu_tố', 'trong', 'phim', 'như', 'tên', 'nhân_vật', 'địa_điểm'], ['và', 'phát_sóng', 'trên', 'disney', 'xd', 'kể', 'từ', '7', 'tháng', '7'], ['xê', 'ri', 'cũng', 'được', 'chuyển_thể', 'thành', 'nhiều', 'tác_phẩm', 'khác', 'nhau', 'như', 'doraemon_plus', 'truyện_ngắn', 'truyện_dài', 'phim', 'điện_ảnh', 'trò_chơi', 'điện_tử', 'nhạc_kịch', 'băng_đĩa'], ['dưới', 'đây', 'là', 'danh_sách', 'các', 'tác_phẩm', 'về', 'doraemon', 'được', 'phát_hành'], ['được', 'ra_mắt', 'lần', 'đầu', 'dưới', 'dạng', 'các', 'chương', 'truyện', 'riêng_lẻ', 'được', 'đăng', 'trên', 'các', 'tạp_chí', 'khác', 'nhau', 'của', 'shogakukan', 'từ', '1969'], ['sau', 'đó', 'được', 'tập_hợp', 'lại', 'thành', 'cuốn', 'phát_hành', 'có', 'tổng_cộng', '45', 'tập', 'truyện_ngắn', 'ra_đời']]\n"
     ]
    }
   ],
   "source": [
    "# Function to read data\n",
    "def read_data(pathdata):\n",
    "    traindata = []\n",
    "    sents = open(pathdata, 'r', encoding='utf-8').readlines()\n",
    "    for sent in sents:\n",
    "        traindata.append(sent.split())\n",
    "    return traindata\n",
    "\n",
    "train_data = read_data(\"D:/Big_Data/NLP_HW-2/datatrain.txt\")\n",
    "print(train_data[:10])  # Print first 10 lines of training data as example"
   ]
  },
  {
   "cell_type": "markdown",
   "metadata": {},
   "source": [
    "## One-hot encoding"
   ]
  },
  {
   "cell_type": "code",
   "execution_count": 5,
   "metadata": {},
   "outputs": [
    {
     "name": "stdout",
     "output_type": "stream",
     "text": [
      "Source sentence:  danh_sách tác_phẩm doraemon\n",
      "One Hot Encoding:  [0 0 0 0 0 0 0 0 0 0 0 0 0 1 1 0 0 0 0 0 0 0 0 0 0 0 0 0 0 0 0 0 0 0 0 1 0\n",
      " 0 0 0 0 0 0 0 0 0]\n",
      "\n",
      "\n",
      "Source sentence:  doraemon nguyên_tác là xê ri anime và manga được sáng_tác bởi fujiko_f\n",
      "One Hot Encoding:  [0 0 0 0 1 0 0 1 0 0 0 0 0 0 1 1 0 0 1 0 1 1 0 0 0 0 1 0 0 1 0 0 0 0 0 0 0\n",
      " 0 0 0 1 1 0 0 1 0]\n",
      "\n",
      "\n",
      "Source sentence:  bắt_đầu_từ những chương truyện nhỏ đăng trên tạp_chí tháng corocoro comic sau đó shogakukan tập_hợp lại phát_hành theo cuốn từ tập 1 đến tập 45\n",
      "One Hot Encoding:  [0 0 0 1 0 0 1 0 0 1 1 1 1 0 0 0 0 0 0 1 0 0 1 1 0 1 0 1 1 0 1 0 1 1 1 0 1\n",
      " 1 1 1 0 0 1 1 0 1]\n",
      "\n",
      "\n"
     ]
    }
   ],
   "source": [
    "train_data_str = [' '.join(sent) for sent in train_data[:4]]\n",
    "\n",
    "# CountVectorizer for One Hot Encoding\n",
    "vectorizer = CountVectorizer(binary=True)\n",
    "one_hot_encoded = vectorizer.fit_transform(train_data_str)\n",
    "one_hot_encoded_array = one_hot_encoded.toarray()\n",
    "\n",
    "for i in range(0, 3):\n",
    "    print(\"Source sentence: \", train_data_str[i])\n",
    "    print(\"One Hot Encoding: \", one_hot_encoded_array[i])\n",
    "    print(\"\\n\")"
   ]
  },
  {
   "cell_type": "markdown",
   "metadata": {},
   "source": [
    "## TF-IDF encoding"
   ]
  },
  {
   "cell_type": "code",
   "execution_count": 7,
   "metadata": {},
   "outputs": [
    {
     "name": "stdout",
     "output_type": "stream",
     "text": [
      "Source sentence:  danh_sách tác_phẩm doraemon\n",
      "TF-IDF Encoding:  [0.         0.         0.         0.         0.         0.\n",
      " 0.         0.         0.         0.         0.         0.\n",
      " 0.         0.61761437 0.48693426 0.         0.         0.\n",
      " 0.         0.         0.         0.         0.         0.\n",
      " 0.         0.         0.         0.         0.         0.\n",
      " 0.         0.         0.         0.         0.         0.61761437\n",
      " 0.         0.         0.         0.         0.         0.\n",
      " 0.         0.         0.         0.        ]\n",
      "\n",
      "\n",
      "Source sentence:  doraemon nguyên_tác là xê ri anime và manga được sáng_tác bởi fujiko_f\n",
      "TF-IDF Encoding:  [0.         0.         0.         0.         0.23918972 0.\n",
      " 0.         0.30338183 0.         0.         0.         0.\n",
      " 0.         0.         0.23918972 0.30338183 0.         0.\n",
      " 0.30338183 0.         0.30338183 0.30338183 0.         0.\n",
      " 0.         0.         0.30338183 0.         0.         0.30338183\n",
      " 0.         0.         0.         0.         0.         0.\n",
      " 0.         0.         0.         0.         0.23918972 0.30338183\n",
      " 0.         0.         0.30338183 0.        ]\n",
      "\n",
      "\n",
      "Source sentence:  bắt_đầu_từ những chương truyện nhỏ đăng trên tạp_chí tháng corocoro comic sau đó shogakukan tập_hợp lại phát_hành theo cuốn từ tập 1 đến tập 45\n",
      "TF-IDF Encoding:  [0.         0.         0.         0.20054309 0.         0.\n",
      " 0.20054309 0.         0.         0.20054309 0.20054309 0.20054309\n",
      " 0.20054309 0.         0.         0.         0.         0.\n",
      " 0.         0.20054309 0.         0.         0.20054309 0.20054309\n",
      " 0.         0.20054309 0.         0.15811048 0.20054309 0.\n",
      " 0.15811048 0.         0.20054309 0.20054309 0.20054309 0.\n",
      " 0.20054309 0.40108618 0.20054309 0.20054309 0.         0.\n",
      " 0.15811048 0.20054309 0.         0.20054309]\n",
      "\n",
      "\n"
     ]
    }
   ],
   "source": [
    "# TfidfVectorizer for TF-IDF Encoding\n",
    "tfidf_vectorizer = TfidfVectorizer()\n",
    "tfidf_encoded = tfidf_vectorizer.fit_transform(train_data_str)\n",
    "tfidf_encoded_array = tfidf_encoded.toarray()\n",
    "\n",
    "for i in range(0, 3):\n",
    "    print(\"Source sentence: \", train_data_str[i])\n",
    "    print(\"TF-IDF Encoding: \", tfidf_encoded_array[i])\n",
    "    print(\"\\n\")\n"
   ]
  },
  {
   "cell_type": "markdown",
   "metadata": {},
   "source": [
    "## Windows based cooccurence matrix"
   ]
  },
  {
   "cell_type": "code",
   "execution_count": 8,
   "metadata": {},
   "outputs": [
    {
     "data": {
      "image/png": "[encoded data removed]",
      "text/plain": [
       "<Figure size 1000x800 with 2 Axes>"
      ]
     },
     "metadata": {},
     "output_type": "display_data"
    }
   ],
   "source": [
    "# Co-occurrence matrix\n",
    "corpus = [\"tôi yêu công_việc .\",\n",
    "          \"tôi thích NLP .\",\n",
    "          \"tôi ghét ở một_mình\"]\n",
    "\n",
    "words = []\n",
    "for sentence in corpus:\n",
    "    words.extend(sentence.split())\n",
    "\n",
    "words = list(set(words))\n",
    "words.sort()\n",
    "\n",
    "X = np.zeros((len(words), len(words)))\n",
    "\n",
    "for sentence in corpus:\n",
    "    tokens = sentence.split()\n",
    "    for i, token in enumerate(tokens):\n",
    "        if i == 0:\n",
    "            X[words.index(token), words.index(tokens[i + 1])] += 1\n",
    "        elif i == len(tokens) - 1:\n",
    "            X[words.index(token), words.index(tokens[i - 1])] += 1\n",
    "        else:\n",
    "            X[words.index(token), words.index(tokens[i + 1])] += 1\n",
    "            X[words.index(token), words.index(tokens[i - 1])] += 1\n",
    "\n",
    "plt.figure(figsize=(10, 8))\n",
    "sns.heatmap(X, xticklabels=words, yticklabels=words, cmap=\"YlGnBu\", annot=True, fmt=\"g\")\n",
    "\n",
    "plt.title(\"Co-Occurrence Matrix Heatmap\")\n",
    "plt.xlabel(\"Words\")\n",
    "plt.ylabel(\"Words\")\n",
    "plt.show()"
   ]
  },
  {
   "cell_type": "markdown",
   "metadata": {},
   "source": [
    "## Singular Decomposition Value"
   ]
  },
  {
   "cell_type": "code",
   "execution_count": 9,
   "metadata": {},
   "outputs": [
    {
     "data": {
      "image/png": "[encoded data removed]",
      "text/plain": [
       "<Figure size 640x480 with 1 Axes>"
      ]
     },
     "metadata": {},
     "output_type": "display_data"
    }
   ],
   "source": [
    "# SVD\n",
    "la = np.linalg\n",
    "U, s, Vh = la.svd(X, full_matrices=False)\n",
    "\n",
    "plt.xlim(-1, 1)\n",
    "plt.ylim(-1, 1)\n",
    "\n",
    "for i in range(len(words)):\n",
    "    plt.text(U[i, 0], U[i, 1], words[i])\n",
    "\n",
    "plt.show()"
   ]
  },
  {
   "cell_type": "code",
   "execution_count": 10,
   "metadata": {},
   "outputs": [],
   "source": [
    "train_data = [' '.join(sent) for sent in train_data]"
   ]
  },
  {
   "cell_type": "code",
   "execution_count": 51,
   "metadata": {},
   "outputs": [
    {
     "name": "stdout",
     "output_type": "stream",
     "text": [
      "['danh_sách tác_phẩm doraemon', 'doraemon nguyên_tác là xê ri anime và manga được sáng_tác bởi fujiko_f', 'bắt_đầu_từ những chương truyện nhỏ đăng trên tạp_chí tháng corocoro comic sau đó shogakukan tập_hợp lại phát_hành theo cuốn từ tập 1 đến tập 45', 'sau đó chuyển_thể thành anime theo ba giai_đoạn phim hoạt_hình 1973 1979 2005 và 2005', 'năm 2014 viz_media mua bản_quyền mỹ_hóa các yếu_tố trong phim như tên nhân_vật địa_điểm']\n"
     ]
    }
   ],
   "source": [
    "print(train_data[:5])"
   ]
  },
  {
   "cell_type": "code",
   "execution_count": 52,
   "metadata": {},
   "outputs": [],
   "source": [
    "train_data = [sentence.split() for sentence in train_data]"
   ]
  },
  {
   "cell_type": "code",
   "execution_count": 53,
   "metadata": {},
   "outputs": [
    {
     "name": "stdout",
     "output_type": "stream",
     "text": [
      "[['danh_sách', 'tác_phẩm', 'doraemon'], ['doraemon', 'nguyên_tác', 'là', 'xê', 'ri', 'anime', 'và', 'manga', 'được', 'sáng_tác', 'bởi', 'fujiko_f'], ['bắt_đầu_từ', 'những', 'chương', 'truyện', 'nhỏ', 'đăng', 'trên', 'tạp_chí', 'tháng', 'corocoro', 'comic', 'sau', 'đó', 'shogakukan', 'tập_hợp', 'lại', 'phát_hành', 'theo', 'cuốn', 'từ', 'tập', '1', 'đến', 'tập', '45'], ['sau', 'đó', 'chuyển_thể', 'thành', 'anime', 'theo', 'ba', 'giai_đoạn', 'phim', 'hoạt_hình', '1973', '1979', '2005', 'và', '2005'], ['năm', '2014', 'viz_media', 'mua', 'bản_quyền', 'mỹ_hóa', 'các', 'yếu_tố', 'trong', 'phim', 'như', 'tên', 'nhân_vật', 'địa_điểm']]\n"
     ]
    }
   ],
   "source": [
    "print(train_data[:5])"
   ]
  },
  {
   "cell_type": "code",
   "execution_count": 49,
   "metadata": {},
   "outputs": [
    {
     "name": "stdout",
     "output_type": "stream",
     "text": [
      "Number of sentences in training data: 306855\n"
     ]
    }
   ],
   "source": [
    "print(f\"Number of sentences in training data: {len(train_data)}\")"
   ]
  },
  {
   "cell_type": "markdown",
   "metadata": {},
   "source": [
    "## Word2vec training"
   ]
  },
  {
   "cell_type": "code",
   "execution_count": 54,
   "metadata": {},
   "outputs": [],
   "source": [
    "model = Word2Vec(train_data, vector_size=150, window=10, min_count=2, workers=4, sg=0)\n",
    "model.wv.save(\"word2vec_skipgram.model\")"
   ]
  },
  {
   "cell_type": "code",
   "execution_count": 55,
   "metadata": {},
   "outputs": [],
   "source": [
    "model = word2vec.KeyedVectors.load('word2vec_skipgram.model')"
   ]
  },
  {
   "cell_type": "code",
   "execution_count": 62,
   "metadata": {},
   "outputs": [
    {
     "name": "stdout",
     "output_type": "stream",
     "text": [
      "Number of vocab: 79968\n"
     ]
    }
   ],
   "source": [
    "vocabulary = list(model.key_to_index.keys())\n",
    "\n",
    "print(f\"Number of vocab: {len(vocabulary)}\")"
   ]
  },
  {
   "cell_type": "code",
   "execution_count": 58,
   "metadata": {},
   "outputs": [
    {
     "data": {
      "text/plain": [
       "79968"
      ]
     },
     "execution_count": 58,
     "metadata": {},
     "output_type": "execute_result"
    }
   ],
   "source": [
    "len(vocabulary)"
   ]
  },
  {
   "cell_type": "code",
   "execution_count": 59,
   "metadata": {},
   "outputs": [
    {
     "name": "stdout",
     "output_type": "stream",
     "text": [
      "('cạn', 0.6825899481773376)\n",
      "('vùng_biển', 0.6673470139503479)\n",
      "('bờ', 0.6661208868026733)\n",
      "('nước_mặn', 0.6581462621688843)\n",
      "('everglades', 0.6466620564460754)\n",
      "('ngư_dân', 0.6422473788261414)\n",
      "('cửa_sông', 0.6338839530944824)\n",
      "('vũng', 0.6294481158256531)\n",
      "('đất_liền', 0.6267847418785095)\n",
      "('vịnh', 0.6254119873046875)\n"
     ]
    }
   ],
   "source": [
    "model = word2vec.KeyedVectors.load('D:/Big_Data/NLP_HW-2/word2vec_skipgram.model')\n",
    "\n",
    "for word in model.most_similar(u\"biển\"):\n",
    "    print(word[:3])"
   ]
  },
  {
   "cell_type": "markdown",
   "metadata": {},
   "source": [
    "## Visual the result"
   ]
  },
  {
   "cell_type": "code",
   "execution_count": 64,
   "metadata": {},
   "outputs": [
    {
     "data": {
      "image/png": "[encoded data removed]",
      "text/plain": [
       "<Figure size 640x480 with 1 Axes>"
      ]
     },
     "metadata": {},
     "output_type": "display_data"
    }
   ],
   "source": [
    "model = word2vec.KeyedVectors.load('word2vec_skipgram.model')\n",
    "\n",
    "pathfile = 'words.txt'\n",
    "with open(pathfile, 'r', encoding='utf-8') as f:\n",
    "    words = f.readlines()\n",
    "    words = [word.strip() for word in words]\n",
    "\n",
    "words_np = []\n",
    "words_label = []\n",
    "\n",
    "for word in model.key_to_index.keys():\n",
    "    if word in words:\n",
    "        words_np.append(model[word])\n",
    "        words_label.append(word)\n",
    "\n",
    "pca = PCA(n_components=2)\n",
    "pca.fit(words_np)\n",
    "reduced = pca.transform(words_np)\n",
    "\n",
    "\n",
    "def visualize():\n",
    "    fig, ax = plt.subplots()\n",
    "\n",
    "    for index, vec in enumerate(reduced):\n",
    "        x, y = vec[0], vec[1]\n",
    "\n",
    "        ax.scatter(x, y)\n",
    "        ax.annotate(words_label[index], xy=(x, y))\n",
    "\n",
    "    plt.show()\n",
    "    return\n",
    "\n",
    "visualize()"
   ]
  },
  {
   "cell_type": "markdown",
   "metadata": {},
   "source": [
    "## Fasttext training"
   ]
  },
  {
   "cell_type": "code",
   "execution_count": 65,
   "metadata": {},
   "outputs": [],
   "source": [
    "from gensim.models.fasttext import FastText"
   ]
  },
  {
   "cell_type": "code",
   "execution_count": 67,
   "metadata": {},
   "outputs": [],
   "source": [
    "#load model\n",
    "model_fasttext = FastText(vector_size=150, window=10, min_count=2, workers=4, sg=1)"
   ]
  },
  {
   "cell_type": "code",
   "execution_count": 68,
   "metadata": {},
   "outputs": [],
   "source": [
    "# Build vocabulary\n",
    "model_fasttext.build_vocab(train_data)"
   ]
  },
  {
   "cell_type": "code",
   "execution_count": 69,
   "metadata": {},
   "outputs": [
    {
     "data": {
      "text/plain": [
       "(41487416, 51541390)"
      ]
     },
     "execution_count": 69,
     "metadata": {},
     "output_type": "execute_result"
    }
   ],
   "source": [
    "# Train the model\n",
    "model_fasttext.train(train_data, total_examples=len(train_data), epochs=10)"
   ]
  },
  {
   "cell_type": "code",
   "execution_count": 70,
   "metadata": {},
   "outputs": [],
   "source": [
    "# Lưu mô hình\n",
    "model_fasttext.save(\"fasttext_skipgram.model\")"
   ]
  },
  {
   "cell_type": "code",
   "execution_count": 71,
   "metadata": {},
   "outputs": [
    {
     "name": "stdout",
     "output_type": "stream",
     "text": [
      "Number of words in the vocabulary: 79968\n",
      "First 10 words in the vocabulary:\n",
      "['là', 'và', 'một', 'trong', 'được', 'của', 'năm', 'loài', 'các', 'có']\n"
     ]
    }
   ],
   "source": [
    "# Kiểm tra từ điển của mô hình\n",
    "vocabulary = list(model_fasttext.wv.key_to_index.keys())\n",
    "print(f\"Number of words in the vocabulary: {len(vocabulary)}\")\n",
    "print(\"First 10 words in the vocabulary:\")\n",
    "print(vocabulary[:10])"
   ]
  },
  {
   "cell_type": "markdown",
   "metadata": {},
   "source": [
    "# 2.Finish script for pipeline in slide 28"
   ]
  },
  {
   "cell_type": "code",
   "execution_count": 72,
   "metadata": {},
   "outputs": [],
   "source": [
    "Punc2Remove = string.punctuation + string.digits + \"\\n\"\n",
    "\n",
    "def clean_text(text):\n",
    "    translation_table = str.maketrans('', '', Punc2Remove)\n",
    "    text = text.translate(translation_table)\n",
    "    text = text.lower()\n",
    "    return text\n",
    "\n",
    "with open('truyen_kieu_data.txt', 'r', encoding='utf-8') as file:\n",
    "    data = file.readlines()\n",
    "\n",
    "cleaned_data = [clean_text(line) for line in data]"
   ]
  },
  {
   "cell_type": "code",
   "execution_count": 73,
   "metadata": {},
   "outputs": [
    {
     "name": "stdout",
     "output_type": "stream",
     "text": [
      "Data: 1..Trăm năm trong cõi người ta,\n",
      "\n",
      "Cleaned text: trăm năm trong cõi người ta\n"
     ]
    }
   ],
   "source": [
    "print(f\"Data: {data[0]}\")\n",
    "exs = clean_text(data[0])\n",
    "print(f\"Cleaned text: {exs}\")"
   ]
  },
  {
   "cell_type": "code",
   "execution_count": 74,
   "metadata": {},
   "outputs": [
    {
     "data": {
      "text/plain": [
       "['trăm năm trong cõi người ta',\n",
       " 'chữ tài chữ mệnh khéo là ghét nhau',\n",
       " 'trải qua một cuộc bể dâu',\n",
       " 'những điều trông thấy mà đau đớn lòng',\n",
       " ' lạ gì bỉ sắc tư phong',\n",
       " 'trời xanh quen thói má hồng đánh ghen',\n",
       " 'cảo thơm lần giở trước đèn',\n",
       " 'phong tình có lục còn truyền sử xanh',\n",
       " 'rằng năm gia tĩnh triều minh',\n",
       " ' bốn phương phẳng lặng hai kinh vững vàng']"
      ]
     },
     "execution_count": 74,
     "metadata": {},
     "output_type": "execute_result"
    }
   ],
   "source": [
    "cleaned_data = []\n",
    "for line in data:\n",
    "    line = clean_text(line)\n",
    "    cleaned_data.append(line)\n",
    "\n",
    "cleaned_data[:10]"
   ]
  },
  {
   "cell_type": "code",
   "execution_count": 75,
   "metadata": {},
   "outputs": [],
   "source": [
    "def get_centers_and_contexts(corpus, max_window_size=2):\n",
    "    centers = []\n",
    "    contexts = []\n",
    "\n",
    "    for line in corpus:\n",
    "        line = line.split()\n",
    "\n",
    "        if len(line) <= 2 * max_window_size:\n",
    "            continue\n",
    "\n",
    "        for i in range(max_window_size, len(line) - max_window_size):\n",
    "            centers.append(line[i])\n",
    "            idxs = list(range(i - max_window_size, i + max_window_size + 1))\n",
    "            idxs.remove(i)\n",
    "            contexts.append([line[idx] for idx in idxs])\n",
    "\n",
    "    return centers, contexts"
   ]
  },
  {
   "cell_type": "code",
   "execution_count": 76,
   "metadata": {},
   "outputs": [
    {
     "data": {
      "text/plain": [
       "9778"
      ]
     },
     "execution_count": 76,
     "metadata": {},
     "output_type": "execute_result"
    }
   ],
   "source": [
    "centers, contexts = get_centers_and_contexts(cleaned_data)\n",
    "len(centers)"
   ]
  },
  {
   "cell_type": "code",
   "execution_count": 77,
   "metadata": {},
   "outputs": [],
   "source": [
    "# make dataset \n",
    "class TextDataset(Dataset):\n",
    "    def __init__(self, contexts, centers, word2idx, max_length):\n",
    "        self.contexts = contexts\n",
    "        self.centers = centers\n",
    "        self.word2idx = word2idx\n",
    "        self.max_length = max_length\n",
    "\n",
    "    def __len__(self):\n",
    "        return len(self.centers)\n",
    "\n",
    "    def __getitem__(self, idx):\n",
    "        context_indices = [self.word2idx.get(word, self.word2idx['<OOV>']) for word in self.contexts[idx]]\n",
    "        center_index = self.word2idx.get(self.centers[idx], self.word2idx['<OOV>'])\n",
    "        context_indices = context_indices + [0] * (self.max_length - len(context_indices))\n",
    "        return torch.tensor(context_indices, dtype=torch.long), torch.tensor(center_index, dtype=torch.long)"
   ]
  },
  {
   "cell_type": "code",
   "execution_count": 79,
   "metadata": {},
   "outputs": [],
   "source": [
    "# Make dictionary\n",
    "word_counter = Counter([word for context in contexts for word in context] + centers)\n",
    "word2idx = {word: idx for idx, (word, _) in enumerate(word_counter.items(), start=1)}\n",
    "word2idx['<OOV>'] = 0\n",
    "vocab_size = len(word2idx)\n",
    "max_length = 4"
   ]
  },
  {
   "cell_type": "code",
   "execution_count": 80,
   "metadata": {},
   "outputs": [],
   "source": [
    "# Build dataset and dataloader\n",
    "dataset = TextDataset(contexts, centers, word2idx, max_length)\n",
    "dataloader = DataLoader(dataset, batch_size=16, shuffle=True)"
   ]
  },
  {
   "cell_type": "code",
   "execution_count": 81,
   "metadata": {},
   "outputs": [],
   "source": [
    "# Build CBOW model\n",
    "class CBOW(nn.Module):\n",
    "    def __init__(self, vocab_size, embedding_dim):\n",
    "        super(CBOW, self).__init__()\n",
    "        self.embeddings = nn.Embedding(vocab_size, embedding_dim)\n",
    "        self.linear = nn.Linear(embedding_dim, vocab_size)\n",
    "\n",
    "    def forward(self, inputs):\n",
    "        embeds = self.embeddings(inputs)\n",
    "        embeds = embeds.mean(dim=1)\n",
    "        out = self.linear(embeds)\n",
    "        return out"
   ]
  },
  {
   "cell_type": "code",
   "execution_count": 84,
   "metadata": {},
   "outputs": [
    {
     "name": "stderr",
     "output_type": "stream",
     "text": [
      "c:\\Users\\Admin\\miniconda3\\envs\\son\\Lib\\site-packages\\tqdm\\auto.py:21: TqdmWarning: IProgress not found. Please update jupyter and ipywidgets. See https://ipywidgets.readthedocs.io/en/stable/user_install.html\n",
      "  from .autonotebook import tqdm as notebook_tqdm\n"
     ]
    }
   ],
   "source": [
    "# Set up parameter to train CBOW\n",
    "embedding_size = 250\n",
    "model = CBOW(vocab_size, embedding_size)\n",
    "criterion = nn.CrossEntropyLoss()\n",
    "optimizer = optim.Adam(model.parameters(), lr=0.001)"
   ]
  },
  {
   "cell_type": "code",
   "execution_count": 86,
   "metadata": {},
   "outputs": [
    {
     "name": "stderr",
     "output_type": "stream",
     "text": [
      "                                                                         \r"
     ]
    },
    {
     "name": "stdout",
     "output_type": "stream",
     "text": [
      "Epoch 1, Loss: 7.340356011016696\n"
     ]
    },
    {
     "name": "stderr",
     "output_type": "stream",
     "text": [
      "                                                                         \r"
     ]
    },
    {
     "name": "stdout",
     "output_type": "stream",
     "text": [
      "Epoch 2, Loss: 5.836013476053874\n"
     ]
    },
    {
     "name": "stderr",
     "output_type": "stream",
     "text": [
      "                                                                          \r"
     ]
    },
    {
     "name": "stdout",
     "output_type": "stream",
     "text": [
      "Epoch 3, Loss: 4.715860160737256\n"
     ]
    },
    {
     "name": "stderr",
     "output_type": "stream",
     "text": [
      "                                                                          \r"
     ]
    },
    {
     "name": "stdout",
     "output_type": "stream",
     "text": [
      "Epoch 4, Loss: 3.72661389478671\n"
     ]
    },
    {
     "name": "stderr",
     "output_type": "stream",
     "text": [
      "                                                                         \r"
     ]
    },
    {
     "name": "stdout",
     "output_type": "stream",
     "text": [
      "Epoch 5, Loss: 2.8801872212123247\n"
     ]
    },
    {
     "name": "stderr",
     "output_type": "stream",
     "text": [
      "                                                                         \r"
     ]
    },
    {
     "name": "stdout",
     "output_type": "stream",
     "text": [
      "Epoch 6, Loss: 2.2232956785002567\n"
     ]
    },
    {
     "name": "stderr",
     "output_type": "stream",
     "text": [
      "                                                                         \r"
     ]
    },
    {
     "name": "stdout",
     "output_type": "stream",
     "text": [
      "Epoch 7, Loss: 1.7509055147373598\n"
     ]
    },
    {
     "name": "stderr",
     "output_type": "stream",
     "text": [
      "                                                                          \r"
     ]
    },
    {
     "name": "stdout",
     "output_type": "stream",
     "text": [
      "Epoch 8, Loss: 1.3981396268590602\n"
     ]
    },
    {
     "name": "stderr",
     "output_type": "stream",
     "text": [
      "                                                                          \r"
     ]
    },
    {
     "name": "stdout",
     "output_type": "stream",
     "text": [
      "Epoch 9, Loss: 1.1321154835274796\n"
     ]
    },
    {
     "name": "stderr",
     "output_type": "stream",
     "text": [
      "                                                                           "
     ]
    },
    {
     "name": "stdout",
     "output_type": "stream",
     "text": [
      "Epoch 10, Loss: 0.9246506712892476\n"
     ]
    },
    {
     "name": "stderr",
     "output_type": "stream",
     "text": [
      "\r"
     ]
    }
   ],
   "source": [
    "# Training the model\n",
    "epochs = 10\n",
    "for epoch in range(epochs):\n",
    "    total_loss = 0\n",
    "    progress_bar = tqdm(dataloader, desc=f\"Epoch {epoch+1}/{epochs}\", leave=False)\n",
    "    for contexts, centers in progress_bar:\n",
    "        optimizer.zero_grad()\n",
    "        outputs = model(contexts)\n",
    "        loss = criterion(outputs, centers)\n",
    "        loss.backward()\n",
    "        optimizer.step()\n",
    "        total_loss += loss.item()\n",
    "        progress_bar.set_postfix(loss=total_loss / len(progress_bar))\n",
    "    print(f\"Epoch {epoch+1}, Loss: {total_loss/len(dataloader)}\")"
   ]
  },
  {
   "cell_type": "code",
   "execution_count": 87,
   "metadata": {},
   "outputs": [
    {
     "name": "stdout",
     "output_type": "stream",
     "text": [
      "Predicted word: cũng\n"
     ]
    }
   ],
   "source": [
    "# Predict the word\n",
    "sample_text = 'trăm năm cõi người ta'\n",
    "sample_words = clean_text(sample_text).split()\n",
    "sample_indices = [word2idx.get(word, word2idx['<OOV>']) for word in sample_words]\n",
    "sample_indices = sample_indices + [0] * (max_length - len(sample_indices))\n",
    "sample_tensor = torch.tensor([sample_indices], dtype=torch.long)\n",
    "model.eval()\n",
    "with torch.no_grad():\n",
    "    output = model(sample_tensor)\n",
    "predicted_word_idx = output.argmax(dim=1).item()\n",
    "predicted_word = list(word2idx.keys())[list(word2idx.values()).index(predicted_word_idx)]\n",
    "\n",
    "print(f\"Predicted word: {predicted_word}\")"
   ]
  },
  {
   "cell_type": "code",
   "execution_count": null,
   "metadata": {},
   "outputs": [],
   "source": []
  }
 ],
 "metadata": {
  "kernelspec": {
   "display_name": "son",
   "language": "python",
   "name": "python3"
  },
  "language_info": {
   "codemirror_mode": {
    "name": "ipython",
    "version": 3
   },
   "file_extension": ".py",
   "mimetype": "text/x-python",
   "name": "python",
   "nbconvert_exporter": "python",
   "pygments_lexer": "ipython3",
   "version": "3.12.3"
  }
 },
 "nbformat": 4,
 "nbformat_minor": 2
}
